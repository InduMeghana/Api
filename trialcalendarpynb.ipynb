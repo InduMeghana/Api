{
  "nbformat": 4,
  "nbformat_minor": 0,
  "metadata": {
    "colab": {
      "name": "trialcalendarpynb",
      "provenance": [],
      "authorship_tag": "ABX9TyPC+twdmhI3BMSvVHd/lvHa",
      "include_colab_link": true
    },
    "kernelspec": {
      "name": "python3",
      "display_name": "Python 3"
    }
  },
  "cells": [
    {
      "cell_type": "markdown",
      "metadata": {
        "id": "view-in-github",
        "colab_type": "text"
      },
      "source": [
        "<a href=\"https://colab.research.google.com/github/InduMeghana/Api/blob/master/trialcalendarpynb.ipynb\" target=\"_parent\"><img src=\"https://colab.research.google.com/assets/colab-badge.svg\" alt=\"Open In Colab\"/></a>"
      ]
    },
    {
      "cell_type": "code",
      "metadata": {
        "id": "a0XRlPCns83Y",
        "colab_type": "code",
        "colab": {}
      },
      "source": [
        "import httplib2\n",
        "from googleapiclient.discovery import build\n",
        "from oauth2client.client import OAuth2WebServerFlow"
      ],
      "execution_count": 0,
      "outputs": []
    },
    {
      "cell_type": "code",
      "metadata": {
        "id": "6NSdlMN0u-Lu",
        "colab_type": "code",
        "colab": {}
      },
      "source": [
        "client_id=\"377947445039-tpvpcs5sgmll4cp4jnkdk48efuoa1apr.apps.googleusercontent.com\"\n",
        "client_secret=\"GolTV3cAg3Qz3sGF-kNPtYaX\""
      ],
      "execution_count": 0,
      "outputs": []
    },
    {
      "cell_type": "code",
      "metadata": {
        "id": "oO-Da-0NqQ3O",
        "colab_type": "code",
        "outputId": "45ccfe8c-b3c6-4864-f169-5f4608991a58",
        "colab": {
          "base_uri": "https://localhost:8080/",
          "height": 88
        }
      },
      "source": [
        "scope=\"https://www.googleapis.com/auth/calendar\"\n",
        "redirect='urn:ietf:wg:oauth:2.0:oob'\n",
        "flow = OAuth2WebServerFlow(client_id,client_secret,scope,redirect)\n",
        "authorize_url = flow.step1_get_authorize_url()\n",
        "print('Go to the following link in your browser: ' + authorize_url)\n",
        "code = input('Enter verification code: ').strip()\n",
        "credentials = flow.step2_exchange(code)"
      ],
      "execution_count": 0,
      "outputs": [
        {
          "output_type": "stream",
          "text": [
            "__init__() takes at most 4 positional arguments (5 given)\n"
          ],
          "name": "stderr"
        },
        {
          "output_type": "stream",
          "text": [
            "Go to the following link in your browser: https://accounts.google.com/o/oauth2/v2/auth?client_id=377947445039-tpvpcs5sgmll4cp4jnkdk48efuoa1apr.apps.googleusercontent.com&redirect_uri=urn%3Aietf%3Awg%3Aoauth%3A2.0%3Aoob&scope=https%3A%2F%2Fwww.googleapis.com%2Fauth%2Fcalendar&access_type=offline&response_type=code\n",
            "Enter verification code: 4/ywFns96sKy7VI56eMPUHif0HuWObhZJLj4LQojkBzBpvP5RNqoDiWtI\n"
          ],
          "name": "stdout"
        }
      ]
    },
    {
      "cell_type": "code",
      "metadata": {
        "id": "k82XkV5EAxDI",
        "colab_type": "code",
        "colab": {}
      },
      "source": [
        "http=httplib2.Http()\n",
        "http = credentials.authorize(http)\n",
        "service = build('calendar', 'v3', http=http)"
      ],
      "execution_count": 0,
      "outputs": []
    },
    {
      "cell_type": "code",
      "metadata": {
        "id": "Inhp-imzBxGp",
        "colab_type": "code",
        "colab": {}
      },
      "source": [
        "li=service.calendarList().list().execute\n",
        "li1=li(http=http)"
      ],
      "execution_count": 0,
      "outputs": []
    },
    {
      "cell_type": "code",
      "metadata": {
        "id": "US4QQk4bITZE",
        "colab_type": "code",
        "outputId": "ef8500f6-58be-48bc-e5f2-53cad9b50da8",
        "colab": {
          "base_uri": "https://localhost:8080/",
          "height": 221
        }
      },
      "source": [
        "li1[\"items\"][1]"
      ],
      "execution_count": 0,
      "outputs": [
        {
          "output_type": "execute_result",
          "data": {
            "text/plain": [
              "{'accessRole': 'reader',\n",
              " 'backgroundColor': '#c26401',\n",
              " 'colorId': '3',\n",
              " 'conferenceProperties': {'allowedConferenceSolutionTypes': ['eventHangout']},\n",
              " 'defaultReminders': [],\n",
              " 'etag': '\"1585648823339000\"',\n",
              " 'foregroundColor': '#ffffff',\n",
              " 'id': 'classroom107900118659624451185@group.calendar.google.com',\n",
              " 'kind': 'calendar#calendarListEntry',\n",
              " 'selected': True,\n",
              " 'summary': 'ML Internship Indian Servers 1',\n",
              " 'timeZone': 'UTC'}"
            ]
          },
          "metadata": {
            "tags": []
          },
          "execution_count": 68
        }
      ]
    },
    {
      "cell_type": "code",
      "metadata": {
        "id": "Cjb_dyyALTtV",
        "colab_type": "code",
        "outputId": "ec477a3b-361b-46bb-c13d-e6268f6afea8",
        "colab": {
          "base_uri": "https://localhost:8080/",
          "height": 170
        }
      },
      "source": [
        "event=service.events().list(calendarId=li1[\"items\"][0][\"id\"]).execute\n",
        "eve=event(http=http)\n",
        "eve"
      ],
      "execution_count": 0,
      "outputs": [
        {
          "output_type": "execute_result",
          "data": {
            "text/plain": [
              "{'accessRole': 'owner',\n",
              " 'defaultReminders': [{'method': 'popup', 'minutes': 30}],\n",
              " 'etag': '\"p32895qnun3nug0g\"',\n",
              " 'items': [],\n",
              " 'kind': 'calendar#events',\n",
              " 'nextSyncToken': 'CJCS6v647-gCEJCS6v647-gCGAU=',\n",
              " 'summary': 'megindu3.srec2018@gmail.com',\n",
              " 'timeZone': 'Asia/Kolkata',\n",
              " 'updated': '2020-04-17T12:19:33.322Z'}"
            ]
          },
          "metadata": {
            "tags": []
          },
          "execution_count": 74
        }
      ]
    }
  ]
}